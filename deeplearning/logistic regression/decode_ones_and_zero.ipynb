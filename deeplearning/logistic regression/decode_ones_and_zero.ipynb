{
 "cells": [
  {
   "cell_type": "code",
   "execution_count": 92,
   "metadata": {
    "collapsed": true,
    "deletable": true,
    "editable": true
   },
   "outputs": [],
   "source": [
    "from __future__ import print_function\n",
    "import matplotlib.pyplot as plt\n",
    "import numpy as np\n",
    "import os\n",
    "import sys\n",
    "import tarfile\n",
    "from IPython.display import display,Image\n",
    "from scipy import ndimage\n",
    "from sklearn.linear_model import LogisticRegression\n",
    "from six.moves.urllib.request import urlretrieve\n",
    "from six.moves import cPickle as pickle\n",
    "%matplotlib inline\n",
    "import scipy"
   ]
  },
  {
   "cell_type": "code",
   "execution_count": 2,
   "metadata": {
    "collapsed": false,
    "deletable": true,
    "editable": true
   },
   "outputs": [
    {
     "data": {
      "image/png": "[encoded data removed]",
      "text/plain": [
       "<IPython.core.display.Image object>"
      ]
     },
     "metadata": {},
     "output_type": "display_data"
    }
   ],
   "source": [
    "display(Image(filename='notMNIST_small/A/MlRvb24yIFNoYWRvdy50dGY=.png'))"
   ]
  },
  {
   "cell_type": "code",
   "execution_count": 16,
   "metadata": {
    "collapsed": false,
    "deletable": true,
    "editable": true
   },
   "outputs": [],
   "source": [
    "#os.listdir('notMNIST_small/B')"
   ]
  },
  {
   "cell_type": "code",
   "execution_count": 14,
   "metadata": {
    "collapsed": false,
    "deletable": true,
    "editable": true
   },
   "outputs": [
    {
     "data": {
      "image/png": "[encoded data removed]",
      "text/plain": [
       "<IPython.core.display.Image object>"
      ]
     },
     "metadata": {},
     "output_type": "display_data"
    }
   ],
   "source": [
    "display(Image(filename='notMNIST_small/A/MTFTMDEgQmxhY2sgVHVlc2RheSBPZmZzZXQudHRm.png'))"
   ]
  },
  {
   "cell_type": "code",
   "execution_count": 17,
   "metadata": {
    "collapsed": false,
    "deletable": true,
    "editable": true
   },
   "outputs": [
    {
     "data": {
      "text/plain": [
       "['H', 'I', 'G', 'D', 'J', 'F', 'B', 'A.pickle', 'A', 'C', 'E']"
      ]
     },
     "execution_count": 17,
     "metadata": {},
     "output_type": "execute_result"
    }
   ],
   "source": [
    "imagefile = os.listdir('notMNIST_large/')\n",
    "imagefile"
   ]
  },
  {
   "cell_type": "code",
   "execution_count": 18,
   "metadata": {
    "collapsed": false,
    "deletable": true,
    "editable": true
   },
   "outputs": [
    {
     "data": {
      "text/plain": [
       "11"
      ]
     },
     "execution_count": 18,
     "metadata": {},
     "output_type": "execute_result"
    }
   ],
   "source": [
    "len(imagefile)"
   ]
  },
  {
   "cell_type": "code",
   "execution_count": 22,
   "metadata": {
    "collapsed": false,
    "deletable": true,
    "editable": true
   },
   "outputs": [],
   "source": [
    "dataset = np.ndarray(shape=(len(imagefile), 28, 28),\n",
    "                         dtype=np.float32)\n",
    "#dataset"
   ]
  },
  {
   "cell_type": "code",
   "execution_count": 32,
   "metadata": {
    "collapsed": false,
    "deletable": true,
    "editable": true
   },
   "outputs": [
    {
     "data": {
      "text/plain": [
       "array([[[  1.29178753e+31,   4.55926468e-41,   3.24061996e-37],\n",
       "        [  0.00000000e+00,   0.00000000e+00,   0.00000000e+00],\n",
       "        [  0.00000000e+00,   0.00000000e+00,   0.00000000e+00]],\n",
       "\n",
       "       [[  0.00000000e+00,   0.00000000e+00,   0.00000000e+00],\n",
       "        [  0.00000000e+00,   0.00000000e+00,   0.00000000e+00],\n",
       "        [  0.00000000e+00,   0.00000000e+00,   0.00000000e+00]],\n",
       "\n",
       "       [[  0.00000000e+00,   0.00000000e+00,   0.00000000e+00],\n",
       "        [  0.00000000e+00,   0.00000000e+00,   0.00000000e+00],\n",
       "        [  0.00000000e+00,   0.00000000e+00,   0.00000000e+00]]], dtype=float32)"
      ]
     },
     "execution_count": 32,
     "metadata": {},
     "output_type": "execute_result"
    }
   ],
   "source": [
    "np.ndarray(shape=(3,3,3),dtype=np.float32)"
   ]
  },
  {
   "cell_type": "code",
   "execution_count": 51,
   "metadata": {
    "collapsed": false,
    "deletable": true,
    "editable": true
   },
   "outputs": [
    {
     "name": "stdout",
     "output_type": "stream",
     "text": [
      "notMNIST_large/H\n",
      "notMNIST_large/I\n",
      "notMNIST_large/G\n",
      "notMNIST_large/D\n",
      "notMNIST_large/J\n",
      "notMNIST_large/F\n",
      "notMNIST_large/B\n",
      "notMNIST_large/A.pickle\n",
      "notMNIST_large/A\n",
      "notMNIST_large/C\n",
      "notMNIST_large/E\n"
     ]
    }
   ],
   "source": [
    "for image in imagefile:\n",
    "    image_file = os.path.join('notMNIST_large/',image)\n",
    "    print(image_file)\n",
    "  #  try:\n",
    "   #     image_data = ((ndimage.imread(image_file).astype(float) - \n",
    "    #                255 / 2) / 255)"
   ]
  },
  {
   "cell_type": "code",
   "execution_count": 67,
   "metadata": {
    "collapsed": false,
    "deletable": true,
    "editable": true
   },
   "outputs": [
    {
     "data": {
      "text/plain": [
       "['n.pickle',\n",
       " 'o.pickle',\n",
       " 't.pickle',\n",
       " 'M.pickle',\n",
       " 'N.pickle',\n",
       " 'I.pickle',\n",
       " 'S.pickle',\n",
       " 'T.pickle',\n",
       " '_.pickle',\n",
       " 'l.pickle',\n",
       " 'a.pickle',\n",
       " 'r.pickle',\n",
       " 'g.pickle',\n",
       " 'e.pickle',\n",
       " '/.pickle']"
      ]
     },
     "execution_count": 67,
     "metadata": {},
     "output_type": "execute_result"
    }
   ],
   "source": [
    "train_folders = ('notMNIST_large/')\n",
    "test_folders = ('notMNIST_small/')\n",
    "train_datasets = (train_folders,45000)\n",
    "test_datasets = (test_folders,1800)\n",
    "\n",
    "data_folders, min_num_images_per_class = train_datasets  \n",
    "\n",
    "dataset_names = []\n",
    "for folder in data_folders:\n",
    "    set_filename = folder + '.pickle'\n",
    "    dataset_names.append(set_filename)\n",
    "    \n",
    "dataset_names"
   ]
  },
  {
   "cell_type": "code",
   "execution_count": 60,
   "metadata": {
    "collapsed": false,
    "deletable": true,
    "editable": true
   },
   "outputs": [
    {
     "data": {
      "text/plain": [
       "(('notMNIST_large/', 45000), ('notMNIST_small/', 1800))"
      ]
     },
     "execution_count": 60,
     "metadata": {},
     "output_type": "execute_result"
    }
   ],
   "source": [
    "train_datasets,test_datasets"
   ]
  },
  {
   "cell_type": "code",
   "execution_count": 12,
   "metadata": {
    "collapsed": false,
    "deletable": true,
    "editable": true
   },
   "outputs": [],
   "source": [
    "valid_size = 10000\n",
    "nb_rows = valid_size\n",
    "img_size = 28\n",
    "\n",
    "def make_arrays(nb_rows,img_size):\n",
    "    if nb_rows:\n",
    "        dataset = np.ndarray((nb_rows,img_size,img_size),dtype=np.float32)\n",
    "        labels = np.ndarray(nb_rows,dtype=np.int32)\n",
    "    else:\n",
    "        dataset,labels = None,None\n",
    "    return dataset,labels\n",
    "#make_arrays(nb_rows,img_size)"
   ]
  },
  {
   "cell_type": "code",
   "execution_count": 22,
   "metadata": {
    "collapsed": false
   },
   "outputs": [
    {
     "data": {
      "text/plain": [
       "((10000, 28, 28), (10000,))"
      ]
     },
     "execution_count": 22,
     "metadata": {},
     "output_type": "execute_result"
    }
   ],
   "source": [
    "labels = np.random.rand(10000)\n",
    "labels.shape\n",
    "datasets = np.random.rand(10000,28,28)\n",
    "datasets.shape,labels.shape"
   ]
  },
  {
   "cell_type": "code",
   "execution_count": 26,
   "metadata": {
    "collapsed": false
   },
   "outputs": [],
   "source": [
    "permutation = np.random.permutation(labels.shape[0])\n",
    "permutation.shape\n",
    "shuffuled_dataset = datasets[permutation,:,:]\n",
    "shuffuled_labels = labels[permutation]"
   ]
  },
  {
   "cell_type": "code",
   "execution_count": 31,
   "metadata": {
    "collapsed": true
   },
   "outputs": [],
   "source": [
    "img_data = (ndimage.imread('notMNIST_small/A/MDEtMDEtMDAudHRm.png').astype(float) - 255 /2) / 255"
   ]
  },
  {
   "cell_type": "code",
   "execution_count": 32,
   "metadata": {
    "collapsed": false
   },
   "outputs": [
    {
     "data": {
      "text/plain": [
       "(28, 28)"
      ]
     },
     "execution_count": 32,
     "metadata": {},
     "output_type": "execute_result"
    }
   ],
   "source": [
    "img_data.shape"
   ]
  },
  {
   "cell_type": "code",
   "execution_count": 33,
   "metadata": {
    "collapsed": false
   },
   "outputs": [
    {
     "data": {
      "text/plain": [
       "array([[-0.5       , -0.5       , -0.5       , -0.5       , -0.5       ,\n",
       "        -0.5       , -0.5       , -0.5       , -0.5       , -0.5       ,\n",
       "        -0.45294118, -0.45686275, -0.49607843, -0.5       , -0.46470588,\n",
       "        -0.48039216, -0.5       , -0.49607843, -0.5       , -0.5       ,\n",
       "        -0.5       , -0.5       , -0.5       , -0.5       , -0.5       ,\n",
       "        -0.5       , -0.5       , -0.5       ],\n",
       "       [-0.5       , -0.5       , -0.5       , -0.5       , -0.5       ,\n",
       "        -0.5       , -0.5       , -0.5       , -0.5       , -0.5       ,\n",
       "        -0.44117647, -0.40980392, -0.17843137, -0.04509804, -0.26078431,\n",
       "        -0.15098039, -0.35882353, -0.5       , -0.49607843, -0.5       ,\n",
       "        -0.5       , -0.5       , -0.5       , -0.5       , -0.5       ,\n",
       "        -0.5       , -0.5       , -0.5       ],\n",
       "       [-0.5       , -0.5       , -0.5       , -0.5       , -0.5       ,\n",
       "        -0.5       , -0.5       , -0.5       , -0.49215686, -0.5       ,\n",
       "        -0.2254902 ,  0.11960784,  0.26862745,  0.5       ,  0.37058824,\n",
       "         0.38627451, -0.01372549, -0.37843137, -0.49215686, -0.5       ,\n",
       "        -0.5       , -0.5       , -0.5       , -0.5       , -0.5       ,\n",
       "        -0.5       , -0.5       , -0.5       ],\n",
       "       [-0.5       , -0.5       , -0.5       , -0.5       , -0.5       ,\n",
       "        -0.5       , -0.5       , -0.49215686, -0.5       , -0.32745098,\n",
       "         0.06862745,  0.3       ,  0.5       ,  0.48039216,  0.49215686,\n",
       "         0.5       ,  0.39411765,  0.04509804, -0.5       , -0.49607843,\n",
       "        -0.5       , -0.5       , -0.5       , -0.5       , -0.5       ,\n",
       "        -0.5       , -0.5       , -0.5       ],\n",
       "       [-0.5       , -0.5       , -0.5       , -0.5       , -0.5       ,\n",
       "        -0.5       , -0.5       , -0.49215686, -0.5       , -0.31960784,\n",
       "         0.03333333,  0.44509804,  0.49607843,  0.49607843,  0.49215686,\n",
       "         0.49607843,  0.46078431,  0.13137255, -0.33921569, -0.48823529,\n",
       "        -0.5       , -0.5       , -0.5       , -0.5       , -0.5       ,\n",
       "        -0.5       , -0.5       , -0.5       ],\n",
       "       [-0.5       , -0.5       , -0.5       , -0.5       , -0.5       ,\n",
       "        -0.5       , -0.5       , -0.48039216, -0.5       , -0.17058824,\n",
       "         0.49607843,  0.49607843,  0.49607843,  0.5       ,  0.5       ,\n",
       "         0.5       ,  0.44117647,  0.41372549,  0.00588235, -0.5       ,\n",
       "        -0.5       , -0.49607843, -0.5       , -0.5       , -0.5       ,\n",
       "        -0.5       , -0.5       , -0.5       ],\n",
       "       [-0.5       , -0.5       , -0.5       , -0.5       , -0.5       ,\n",
       "        -0.5       , -0.49215686, -0.5       , -0.20196078,  0.20980392,\n",
       "         0.40588235,  0.48823529,  0.5       ,  0.5       ,  0.5       ,\n",
       "         0.49607843,  0.5       ,  0.45686275,  0.01764706, -0.37843137,\n",
       "        -0.5       , -0.49607843, -0.5       , -0.5       , -0.5       ,\n",
       "        -0.5       , -0.5       , -0.5       ],\n",
       "       [-0.5       , -0.5       , -0.5       , -0.5       , -0.5       ,\n",
       "        -0.5       , -0.48823529, -0.5       ,  0.00980392,  0.20588235,\n",
       "         0.45686275,  0.5       ,  0.48823529,  0.48823529,  0.5       ,\n",
       "         0.49215686,  0.5       ,  0.35882353,  0.36666667, -0.26862745,\n",
       "        -0.5       , -0.48823529, -0.5       , -0.5       , -0.5       ,\n",
       "        -0.5       , -0.5       , -0.5       ],\n",
       "       [-0.5       , -0.5       , -0.5       , -0.5       , -0.5       ,\n",
       "        -0.5       , -0.48431373, -0.45294118,  0.04117647,  0.36666667,\n",
       "         0.5       ,  0.49607843,  0.49215686,  0.47254902,  0.4254902 ,\n",
       "         0.49215686,  0.49607843,  0.5       ,  0.42156863, -0.06078431,\n",
       "        -0.5       , -0.49215686, -0.5       , -0.5       , -0.5       ,\n",
       "        -0.5       , -0.5       , -0.5       ],\n",
       "       [-0.5       , -0.5       , -0.5       , -0.5       , -0.5       ,\n",
       "        -0.49607843, -0.5       , -0.31568627,  0.23333333,  0.5       ,\n",
       "         0.49215686,  0.5       ,  0.45294118,  0.21764706,  0.23333333,\n",
       "         0.3       ,  0.5       ,  0.49215686,  0.49607843,  0.06862745,\n",
       "        -0.22941176, -0.5       , -0.49607843, -0.5       , -0.5       ,\n",
       "        -0.5       , -0.5       , -0.5       ],\n",
       "       [-0.5       , -0.5       , -0.5       , -0.49607843, -0.5       ,\n",
       "        -0.44901961, -0.3745098 ,  0.17058824,  0.31176471,  0.5       ,\n",
       "         0.49215686,  0.5       ,  0.27647059, -0.43333333, -0.10392157,\n",
       "         0.22156863,  0.44901961,  0.5       ,  0.5       ,  0.37843137,\n",
       "         0.04901961, -0.34705882, -0.5       , -0.49215686, -0.5       ,\n",
       "        -0.5       , -0.5       , -0.5       ],\n",
       "       [-0.5       , -0.5       , -0.5       , -0.49607843, -0.5       ,\n",
       "        -0.36666667, -0.46078431,  0.04117647,  0.5       ,  0.48431373,\n",
       "         0.49607843,  0.49215686,  0.0254902 , -0.49215686, -0.23333333,\n",
       "         0.1627451 ,  0.46078431,  0.5       ,  0.5       ,  0.46862745,\n",
       "         0.10784314, -0.22941176, -0.5       , -0.49215686, -0.5       ,\n",
       "        -0.5       , -0.5       , -0.5       ],\n",
       "       [-0.5       , -0.5       , -0.5       , -0.5       , -0.48823529,\n",
       "        -0.43333333, -0.15098039,  0.4254902 ,  0.44901961,  0.5       ,\n",
       "         0.5       ,  0.33137255, -0.06078431, -0.42156863, -0.48431373,\n",
       "        -0.09607843,  0.24509804,  0.3745098 ,  0.5       ,  0.5       ,\n",
       "         0.3745098 , -0.20196078, -0.44117647, -0.5       , -0.49607843,\n",
       "        -0.5       , -0.5       , -0.5       ],\n",
       "       [-0.5       , -0.5       , -0.5       , -0.5       , -0.48823529,\n",
       "        -0.41764706,  0.18627451,  0.48823529,  0.49215686,  0.49607843,\n",
       "         0.42941176,  0.08823529, -0.28823529, -0.5       , -0.49215686,\n",
       "        -0.3627451 ,  0.15098039,  0.45686275,  0.49607843,  0.5       ,\n",
       "         0.41764706,  0.05294118, -0.26862745, -0.5       , -0.49607843,\n",
       "        -0.5       , -0.5       , -0.5       ],\n",
       "       [-0.5       , -0.5       , -0.5       , -0.49607843, -0.5       ,\n",
       "        -0.19803922,  0.40588235,  0.5       ,  0.5       ,  0.49607843,\n",
       "         0.3627451 ,  0.0372549 , -0.35098039, -0.5       , -0.46862745,\n",
       "        -0.3745098 , -0.10784314,  0.47254902,  0.49215686,  0.49215686,\n",
       "         0.5       ,  0.15490196, -0.37843137, -0.40196078, -0.48431373,\n",
       "        -0.5       , -0.5       , -0.5       ],\n",
       "       [-0.5       , -0.5       , -0.5       , -0.5       , -0.38627451,\n",
       "        -0.21372549,  0.24117647,  0.5       ,  0.5       ,  0.42941176,\n",
       "         0.21764706, -0.19019608, -0.5       , -0.49215686, -0.5       ,\n",
       "        -0.44509804, -0.17058824,  0.12352941,  0.5       ,  0.49215686,\n",
       "         0.48823529,  0.5       , -0.14705882, -0.44117647, -0.46470588,\n",
       "        -0.5       , -0.5       , -0.5       ],\n",
       "       [-0.5       , -0.5       , -0.49607843, -0.48823529, -0.33137255,\n",
       "         0.1745098 ,  0.46470588,  0.49607843,  0.5       ,  0.46470588,\n",
       "         0.29215686,  0.06078431, -0.11960784, -0.26078431, -0.04509804,\n",
       "        -0.1745098 , -0.12745098,  0.38235294,  0.42941176,  0.49215686,\n",
       "         0.5       ,  0.47647059,  0.22941176, -0.35098039, -0.48431373,\n",
       "        -0.5       , -0.5       , -0.5       ],\n",
       "       [-0.5       , -0.49607843, -0.5       , -0.42156863, -0.1627451 ,\n",
       "         0.35882353,  0.49607843,  0.5       ,  0.5       ,  0.47254902,\n",
       "         0.44117647,  0.30784314,  0.24117647,  0.42941176,  0.18627451,\n",
       "         0.28823529,  0.35882353,  0.4254902 ,  0.45294118,  0.49607843,\n",
       "         0.5       ,  0.48039216,  0.43333333, -0.21372549, -0.4254902 ,\n",
       "        -0.5       , -0.49607843, -0.5       ],\n",
       "       [-0.5       , -0.48823529, -0.48823529, -0.31568627,  0.10392157,\n",
       "         0.42156863,  0.5       ,  0.49607843,  0.49607843,  0.5       ,\n",
       "         0.5       ,  0.5       ,  0.5       ,  0.49607843,  0.46078431,\n",
       "         0.49215686,  0.47647059,  0.5       ,  0.5       ,  0.5       ,\n",
       "         0.5       ,  0.48823529,  0.5       ,  0.16666667, -0.36666667,\n",
       "        -0.48431373, -0.5       , -0.5       ],\n",
       "       [-0.5       , -0.48431373, -0.48431373, -0.07254902,  0.38627451,\n",
       "         0.39411765,  0.5       ,  0.49215686,  0.5       ,  0.49607843,\n",
       "         0.47647059,  0.48823529,  0.5       ,  0.49215686,  0.49607843,\n",
       "         0.49215686,  0.5       ,  0.5       ,  0.49215686,  0.49215686,\n",
       "         0.5       ,  0.48823529,  0.5       ,  0.33137255, -0.33137255,\n",
       "        -0.45294118, -0.5       , -0.5       ],\n",
       "       [-0.49607843, -0.5       , -0.43333333, -0.00196078,  0.47254902,\n",
       "         0.45686275,  0.5       ,  0.5       ,  0.48431373,  0.48039216,\n",
       "         0.48039216,  0.48431373,  0.41372549,  0.49215686,  0.40980392,\n",
       "         0.44901961,  0.38627451,  0.46862745,  0.48823529,  0.5       ,\n",
       "         0.49607843,  0.49607843,  0.5       ,  0.36666667, -0.16666667,\n",
       "        -0.41372549, -0.5       , -0.49607843],\n",
       "       [-0.5       , -0.47254902, -0.14313725,  0.21764706,  0.47647059,\n",
       "         0.5       ,  0.49607843,  0.47647059,  0.06470588, -0.03333333,\n",
       "         0.26862745, -0.04509804, -0.17058824, -0.10392157, -0.17058824,\n",
       "         0.06470588,  0.1       , -0.19803922, -0.02156863,  0.31176471,\n",
       "         0.46470588,  0.45294118,  0.5       ,  0.49607843,  0.26078431,\n",
       "        -0.3627451 , -0.5       , -0.49215686],\n",
       "       [-0.48431373, -0.33529412, -0.04901961,  0.33137255,  0.5       ,\n",
       "         0.48431373,  0.5       ,  0.13529412, -0.21372549, -0.3627451 ,\n",
       "        -0.5       , -0.46078431, -0.44509804, -0.5       , -0.4372549 ,\n",
       "        -0.47647059, -0.36666667, -0.4254902 , -0.47647059, -0.01764706,\n",
       "         0.23333333,  0.38235294,  0.5       ,  0.49215686,  0.31960784,\n",
       "         0.15490196, -0.5       , -0.49607843],\n",
       "       [-0.44901961, -0.30784314,  0.09607843,  0.48039216,  0.49607843,\n",
       "         0.5       ,  0.43333333,  0.00980392, -0.29215686, -0.47254902,\n",
       "        -0.5       , -0.49215686, -0.49607843, -0.48431373, -0.49607843,\n",
       "        -0.49607843, -0.5       , -0.49215686, -0.5       , -0.4372549 ,\n",
       "         0.02156863,  0.44509804,  0.5       ,  0.5       ,  0.4254902 ,\n",
       "         0.07254902, -0.11960784, -0.48431373],\n",
       "       [-0.39803922, -0.12745098,  0.35098039,  0.5       ,  0.48823529,\n",
       "         0.4372549 ,  0.19019608, -0.11176471, -0.4372549 , -0.5       ,\n",
       "        -0.49607843, -0.5       , -0.5       , -0.5       , -0.5       ,\n",
       "        -0.5       , -0.49607843, -0.49607843, -0.48823529, -0.5       ,\n",
       "        -0.25686275,  0.39803922,  0.42156863,  0.49607843,  0.48039216,\n",
       "         0.3627451 ,  0.00588235, -0.5       ],\n",
       "       [-0.33137255,  0.21764706,  0.48431373,  0.5       ,  0.4254902 ,\n",
       "         0.44117647, -0.02156863, -0.40980392, -0.44509804, -0.5       ,\n",
       "        -0.5       , -0.5       , -0.5       , -0.5       , -0.5       ,\n",
       "        -0.5       , -0.5       , -0.5       , -0.49607843, -0.5       ,\n",
       "        -0.41764706,  0.1627451 ,  0.44901961,  0.45294118,  0.5       ,\n",
       "         0.5       , -0.00980392, -0.34313725],\n",
       "       [-0.33137255, -0.02941176, -0.00588235,  0.08431373,  0.33137255,\n",
       "         0.02156863, -0.40980392, -0.49215686, -0.49215686, -0.5       ,\n",
       "        -0.5       , -0.5       , -0.5       , -0.5       , -0.5       ,\n",
       "        -0.5       , -0.5       , -0.5       , -0.49607843, -0.5       ,\n",
       "        -0.35490196, -0.2372549 ,  0.19803922,  0.29607843,  0.01372549,\n",
       "         0.20196078, -0.17843137, -0.45294118],\n",
       "       [-0.48431373, -0.40196078, -0.3745098 , -0.48039216, -0.45294118,\n",
       "        -0.46470588, -0.49607843, -0.49607843, -0.5       , -0.5       ,\n",
       "        -0.5       , -0.5       , -0.5       , -0.5       , -0.5       ,\n",
       "        -0.5       , -0.5       , -0.5       , -0.5       , -0.5       ,\n",
       "        -0.46470588, -0.4254902 , -0.48431373, -0.38235294, -0.45686275,\n",
       "        -0.46862745, -0.19803922, -0.44901961]])"
      ]
     },
     "execution_count": 33,
     "metadata": {},
     "output_type": "execute_result"
    }
   ],
   "source": [
    "img_data"
   ]
  },
  {
   "cell_type": "code",
   "execution_count": 59,
   "metadata": {
    "collapsed": true
   },
   "outputs": [],
   "source": [
    "img_data_flatten = (ndimage.imread('notMNIST_small/A/OEJhbGxTY3JpcHRTQ2Fwc1NTSyBJdGFsaWMudHRm.png'))"
   ]
  },
  {
   "cell_type": "code",
   "execution_count": 60,
   "metadata": {
    "collapsed": false
   },
   "outputs": [
    {
     "data": {
      "text/plain": [
       "(28, 28)"
      ]
     },
     "execution_count": 60,
     "metadata": {},
     "output_type": "execute_result"
    }
   ],
   "source": [
    "img_data_flatten.shape"
   ]
  },
  {
   "cell_type": "code",
   "execution_count": 61,
   "metadata": {
    "collapsed": false
   },
   "outputs": [],
   "source": [
    "img_data_flatten_flat = img_data_flatten.flat"
   ]
  },
  {
   "cell_type": "code",
   "execution_count": 62,
   "metadata": {
    "collapsed": false
   },
   "outputs": [
    {
     "data": {
      "text/plain": [
       "(784, 28)"
      ]
     },
     "execution_count": 62,
     "metadata": {},
     "output_type": "execute_result"
    }
   ],
   "source": [
    "len(img_data_flatten_flat),len(img_data_flatten)"
   ]
  },
  {
   "cell_type": "code",
   "execution_count": 66,
   "metadata": {
    "collapsed": false
   },
   "outputs": [
    {
     "data": {
      "text/plain": [
       "(5, 5)"
      ]
     },
     "execution_count": 66,
     "metadata": {},
     "output_type": "execute_result"
    }
   ],
   "source": [
    "small_img = (ndimage.imread('notMNIST_small/test/0.jpg',flatten=True))\n",
    "small_img.shape"
   ]
  },
  {
   "cell_type": "code",
   "execution_count": 67,
   "metadata": {
    "collapsed": false
   },
   "outputs": [
    {
     "data": {
      "text/plain": [
       "array([[ 255.,  225.,  131.,  227.,  255.],\n",
       "       [ 253.,   98.,  173.,   84.,  250.],\n",
       "       [ 252.,   56.,  246.,   58.,  255.],\n",
       "       [ 255.,   87.,  179.,   78.,  250.],\n",
       "       [ 251.,  226.,  120.,  226.,  254.]], dtype=float32)"
      ]
     },
     "execution_count": 67,
     "metadata": {},
     "output_type": "execute_result"
    }
   ],
   "source": [
    "small_img"
   ]
  },
  {
   "cell_type": "code",
   "execution_count": 73,
   "metadata": {
    "collapsed": false
   },
   "outputs": [
    {
     "data": {
      "text/plain": [
       "(10, 10)"
      ]
     },
     "execution_count": 73,
     "metadata": {},
     "output_type": "execute_result"
    }
   ],
   "source": [
    "small_img_0_10 = (ndimage.imread('notMNIST_small/test/0_10.jpg',flatten=True))\n",
    "small_img_0_10.shape"
   ]
  },
  {
   "cell_type": "code",
   "execution_count": 71,
   "metadata": {
    "collapsed": false
   },
   "outputs": [
    {
     "data": {
      "text/plain": [
       "array([[ 255.,  249.,  255.,  255.,  252.,  255.,  254.,  255.,  255.,\n",
       "         255.],\n",
       "       [ 254.,  255.,  255.,  141.,   22.,   13.,  141.,  255.,  255.,\n",
       "         255.],\n",
       "       [ 253.,  255.,  216.,    9.,  104.,  113.,    0.,  209.,  255.,\n",
       "         255.],\n",
       "       [ 255.,  255.,  145.,    0.,  227.,  233.,    4.,  142.,  255.,\n",
       "         255.],\n",
       "       [ 253.,  251.,  122.,    5.,  239.,  249.,    0.,  102.,  255.,\n",
       "         255.],\n",
       "       [ 254.,  255.,  117.,    3.,  242.,  251.,    5.,  115.,  255.,\n",
       "         255.],\n",
       "       [ 255.,  255.,  140.,    0.,  230.,  236.,    0.,  136.,  255.,\n",
       "         255.],\n",
       "       [ 255.,  251.,  206.,    4.,  124.,  129.,    5.,  200.,  255.,\n",
       "         255.],\n",
       "       [ 253.,  255.,  250.,  125.,    3.,    9.,  115.,  253.,  255.,\n",
       "         255.],\n",
       "       [ 255.,  252.,  255.,  253.,  245.,  249.,  250.,  255.,  255.,\n",
       "         255.]], dtype=float32)"
      ]
     },
     "execution_count": 71,
     "metadata": {},
     "output_type": "execute_result"
    }
   ],
   "source": [
    "small_img_0_10"
   ]
  },
  {
   "cell_type": "code",
   "execution_count": 76,
   "metadata": {
    "collapsed": false
   },
   "outputs": [
    {
     "data": {
      "text/plain": [
       "(8, 8)"
      ]
     },
     "execution_count": 76,
     "metadata": {},
     "output_type": "execute_result"
    }
   ],
   "source": [
    "small_img_0_8 = (ndimage.imread('notMNIST_small/test/0_8.jpg',flatten=True))\n",
    "small_img_0_8.shape"
   ]
  },
  {
   "cell_type": "code",
   "execution_count": 77,
   "metadata": {
    "collapsed": false
   },
   "outputs": [
    {
     "data": {
      "text/plain": [
       "array([[ 255.,  255.,  255.,  223.,  223.,  253.,  255.,  255.],\n",
       "       [ 253.,  254.,  153.,   13.,   16.,  147.,  254.,  253.],\n",
       "       [ 255.,  255.,   33.,  158.,  166.,   30.,  251.,  255.],\n",
       "       [ 255.,  246.,    3.,  190.,  201.,    1.,  240.,  255.],\n",
       "       [ 251.,  253.,    0.,  191.,  202.,    0.,  247.,  252.],\n",
       "       [ 253.,  255.,   20.,  167.,  175.,   16.,  255.,  254.],\n",
       "       [ 255.,  251.,  137.,   19.,   22.,  130.,  251.,  255.],\n",
       "       [ 254.,  255.,  255.,  209.,  209.,  252.,  255.,  253.]], dtype=float32)"
      ]
     },
     "execution_count": 77,
     "metadata": {},
     "output_type": "execute_result"
    }
   ],
   "source": [
    "small_img_0_8"
   ]
  },
  {
   "cell_type": "code",
   "execution_count": 91,
   "metadata": {
    "collapsed": false
   },
   "outputs": [
    {
     "data": {
      "text/plain": [
       "array([[ True,  True,  True,  True,  True,  True,  True,  True],\n",
       "       [ True,  True, False, False, False, False,  True,  True],\n",
       "       [ True,  True, False, False, False, False,  True,  True],\n",
       "       [ True,  True, False,  True,  True, False,  True,  True],\n",
       "       [ True,  True, False,  True,  True, False,  True,  True],\n",
       "       [ True,  True, False, False,  True, False,  True,  True],\n",
       "       [ True,  True, False, False, False, False,  True,  True],\n",
       "       [ True,  True,  True,  True,  True,  True,  True,  True]], dtype=bool)"
      ]
     },
     "execution_count": 91,
     "metadata": {},
     "output_type": "execute_result"
    }
   ],
   "source": [
    "np.logical_and(small_img_0_8>170,small_img_0_8>40,dtype=int)"
   ]
  },
  {
   "cell_type": "code",
   "execution_count": 82,
   "metadata": {
    "collapsed": false
   },
   "outputs": [
    {
     "data": {
      "text/plain": [
       "array([False, False,  True,  True, False], dtype=bool)"
      ]
     },
     "execution_count": 82,
     "metadata": {},
     "output_type": "execute_result"
    }
   ],
   "source": [
    "x = np.arange(5)\n",
    "np.logical_and(x>1,x<4)"
   ]
  },
  {
   "cell_type": "code",
   "execution_count": 95,
   "metadata": {
    "collapsed": false
   },
   "outputs": [
    {
     "data": {
      "text/plain": [
       "array([[1, 1, 1, 1, 1, 1, 1, 1],\n",
       "       [1, 1, 1, 0, 0, 1, 1, 1],\n",
       "       [1, 1, 0, 1, 1, 0, 1, 1],\n",
       "       [1, 1, 0, 1, 1, 0, 1, 1],\n",
       "       [1, 1, 0, 1, 1, 0, 1, 1],\n",
       "       [1, 1, 0, 1, 1, 0, 1, 1],\n",
       "       [1, 1, 1, 0, 0, 1, 1, 1],\n",
       "       [1, 1, 1, 1, 1, 1, 1, 1]])"
      ]
     },
     "execution_count": 95,
     "metadata": {},
     "output_type": "execute_result"
    }
   ],
   "source": [
    "(small_img_0_8 >100).astype(int)"
   ]
  },
  {
   "cell_type": "code",
   "execution_count": 96,
   "metadata": {
    "collapsed": false
   },
   "outputs": [
    {
     "data": {
      "text/plain": [
       "array([[1, 1, 1, 1, 1, 1, 1, 1, 1, 1],\n",
       "       [1, 1, 1, 1, 0, 0, 1, 1, 1, 1],\n",
       "       [1, 1, 1, 0, 1, 1, 0, 1, 1, 1],\n",
       "       [1, 1, 1, 0, 1, 1, 0, 1, 1, 1],\n",
       "       [1, 1, 1, 0, 1, 1, 0, 1, 1, 1],\n",
       "       [1, 1, 1, 0, 1, 1, 0, 1, 1, 1],\n",
       "       [1, 1, 1, 0, 1, 1, 0, 1, 1, 1],\n",
       "       [1, 1, 1, 0, 1, 1, 0, 1, 1, 1],\n",
       "       [1, 1, 1, 1, 0, 0, 1, 1, 1, 1],\n",
       "       [1, 1, 1, 1, 1, 1, 1, 1, 1, 1]])"
      ]
     },
     "execution_count": 96,
     "metadata": {},
     "output_type": "execute_result"
    }
   ],
   "source": [
    "(small_img_0_10>100).astype(int)"
   ]
  },
  {
   "cell_type": "code",
   "execution_count": null,
   "metadata": {
    "collapsed": true
   },
   "outputs": [],
   "source": []
  }
 ],
 "metadata": {
  "kernelspec": {
   "display_name": "Python 3",
   "language": "python",
   "name": "python3"
  },
  "language_info": {
   "codemirror_mode": {
    "name": "ipython",
    "version": 3
   },
   "file_extension": ".py",
   "mimetype": "text/x-python",
   "name": "python",
   "nbconvert_exporter": "python",
   "pygments_lexer": "ipython3",
   "version": "3.5.2"
  }
 },
 "nbformat": 4,
 "nbformat_minor": 2
}
