{
 "cells": [
  {
   "cell_type": "code",
   "execution_count": 22,
   "metadata": {
    "collapsed": true
   },
   "outputs": [],
   "source": [
    "from __future__ import print_function\n",
    "import numpy as np\n",
    "import tensorflow as tf\n",
    "from six.moves import cPickle as pickle\n",
    "from six.moves import range"
   ]
  },
  {
   "cell_type": "code",
   "execution_count": 23,
   "metadata": {
    "collapsed": false
   },
   "outputs": [
    {
     "name": "stdout",
     "output_type": "stream",
     "text": [
      "Training set (200000, 28, 28) (200000,)\n",
      "Validation set (10000, 28, 28) (10000,)\n",
      "Test set (10000, 28, 28) (10000,)\n"
     ]
    }
   ],
   "source": [
    "pickle_file = 'notMNIST.pickle'\n",
    "\n",
    "with open(pickle_file, 'rb') as f:\n",
    "  save = pickle.load(f)\n",
    "  train_dataset = save['train_dataset']\n",
    "  train_labels = save['train_labels']\n",
    "  valid_dataset = save['valid_dataset']\n",
    "  valid_labels = save['valid_labels']\n",
    "  test_dataset = save['test_dataset']\n",
    "  test_labels = save['test_labels']\n",
    "  del save  # hint to help gc free up memory\n",
    "  print('Training set', train_dataset.shape, train_labels.shape)\n",
    "  print('Validation set', valid_dataset.shape, valid_labels.shape)\n",
    "  print('Test set', test_dataset.shape, test_labels.shape)"
   ]
  },
  {
   "cell_type": "code",
   "execution_count": 24,
   "metadata": {
    "collapsed": false
   },
   "outputs": [
    {
     "name": "stdout",
     "output_type": "stream",
     "text": [
      "Training set (200000, 28, 28) (200000, 10)\n",
      "Validation set (10000, 28, 28) (10000, 10)\n",
      "Test set (10000, 28, 28) (10000, 10)\n"
     ]
    }
   ],
   "source": [
    "image_size = 28\n",
    "num_labels = 10\n",
    "\n",
    "#label_test = test_labels\n",
    "\n",
    "def reformat(dataset,labels):\n",
    "    dataset = dataset.reshape((-1,image_size,image_size)).astype(np.float32)\n",
    "    labels = (np.arange(num_labels)== labels[:,None]).astype(np.float32)\n",
    "    return dataset,labels\n",
    "train_dataset, train_labels = reformat(train_dataset, train_labels)\n",
    "valid_dataset, valid_labels = reformat(valid_dataset, valid_labels)\n",
    "test_dataset, test_labels = reformat(test_dataset, test_labels)\n",
    "print('Training set', train_dataset.shape, train_labels.shape)\n",
    "print('Validation set', valid_dataset.shape, valid_labels.shape)\n",
    "print('Test set', test_dataset.shape, test_labels.shape)"
   ]
  },
  {
   "cell_type": "code",
   "execution_count": 25,
   "metadata": {
    "collapsed": false
   },
   "outputs": [
    {
     "data": {
      "text/plain": [
       "'train_subset = 10000\\n\\ngraph = tf.Graph()\\nwith graph.as_default():\\n    #load data\\n    tf_train_datasets = tf.constant(train_dataset[:train_subset,:])\\n    tf_train_labels = tf.constant(train_labels[:train_subset])\\n    tf_valid_dataset = tf.constant(valid_dataset)\\n    tf_test_dataset = tf.constant(test_dataset)\\n    \\n    #variables\\n    weights = tf.Variable(tf.truncated_normal([image_size*image_size,num_labels]))\\n    biases = tf.Variable(tf.zeros([num_labels]))\\n    \\n    #training\\n    logits = tf.add(tf.matmul(tf_train_datasets,weights),biases)\\n    loss = tf.nn.softmax_cross_entropy_with_logits(labels = tf_train_labels,logits=logits)\\n    \\n    #optimizer\\n    optimizer = tf.train.GradientDescentOptimizer(0.5).minimize(loss)\\n    \\n    #prediction for training,validation and test data\\n    train_prediction = tf.nn.softmax(logitd)\\n    valid_prediction = tf.add(tf.nn.softmax(tf.matmul(tf_valid_dataset,weights),biases))\\n    test_predicton = tf.add(tf.nn.softmax(tf.matmul(tf_test_dataset,weights),biases))'"
      ]
     },
     "execution_count": 25,
     "metadata": {},
     "output_type": "execute_result"
    }
   ],
   "source": [
    "'''train_subset = 10000\n",
    "\n",
    "graph = tf.Graph()\n",
    "with graph.as_default():\n",
    "    #load data\n",
    "    tf_train_datasets = tf.constant(train_dataset[:train_subset,:])\n",
    "    tf_train_labels = tf.constant(train_labels[:train_subset])\n",
    "    tf_valid_dataset = tf.constant(valid_dataset)\n",
    "    tf_test_dataset = tf.constant(test_dataset)\n",
    "    \n",
    "    #variables\n",
    "    weights = tf.Variable(tf.truncated_normal([image_size*image_size,num_labels]))\n",
    "    biases = tf.Variable(tf.zeros([num_labels]))\n",
    "    \n",
    "    #training\n",
    "    logits = tf.add(tf.matmul(tf_train_datasets,weights),biases)\n",
    "    loss = tf.nn.softmax_cross_entropy_with_logits(labels = tf_train_labels,logits=logits)\n",
    "    \n",
    "    #optimizer\n",
    "    optimizer = tf.train.GradientDescentOptimizer(0.5).minimize(loss)\n",
    "    \n",
    "    #prediction for training,validation and test data\n",
    "    train_prediction = tf.nn.softmax(logitd)\n",
    "    valid_prediction = tf.add(tf.nn.softmax(tf.matmul(tf_valid_dataset,weights),biases))\n",
    "    test_predicton = tf.add(tf.nn.softmax(tf.matmul(tf_test_dataset,weights),biases))'''"
   ]
  },
  {
   "cell_type": "code",
   "execution_count": 46,
   "metadata": {
    "collapsed": false
   },
   "outputs": [
    {
     "name": "stdout",
     "output_type": "stream",
     "text": [
      "1000 28 28\n",
      "(1000, 784)\n",
      "(1000, 28, 28)\n",
      "(1000, 784)\n",
      "Tensor(\"Reshape:0\", shape=(1000, 784), dtype=float32)\n"
     ]
    }
   ],
   "source": [
    "# With gradient descent training, even this much data is prohibitive.\n",
    "# Subset the training data for faster turnaround.\n",
    "train_subset = 1000\n",
    "\n",
    "graph = tf.Graph()\n",
    "with graph.as_default():\n",
    "\n",
    " \n",
    "  tf_train_dataset = tf.constant(train_dataset[:train_subset, :])\n",
    "  tf_train_labels = tf.constant(train_labels[:train_subset])\n",
    "  tf_valid_dataset = tf.constant(valid_dataset)\n",
    "  tf_test_dataset = tf.constant(test_dataset)\n",
    "  \n",
    "  std = tf.reshape(tf_train_dataset,[1000,784])\n",
    "\n",
    "  weights = tf.Variable(tf.truncated_normal([image_size * image_size, num_labels]))\n",
    "  biases = tf.Variable(tf.zeros([num_labels]))\n",
    "  \n",
    "  #logits = tf.add(tf.matmul(tf_train_dataset, weights) , biases)\n",
    "  nnsample,nnx,nny = tf_train_dataset.shape\n",
    "  #tf_test_dataset_std = tf_train_dataset.reshape((nnsample,nnx*nny))\n",
    "  tf_test_dataset_std = tf.reshape(tf_train_dataset,[1000,784])\n",
    "  print(nnsample,nnx,nny),print(tf_test_dataset_std.shape),print(tf_train_dataset.shape),print(std.shape),print(std)\n",
    "  std"
   ]
  },
  {
   "cell_type": "code",
   "execution_count": null,
   "metadata": {
    "collapsed": true
   },
   "outputs": [],
   "source": []
  }
 ],
 "metadata": {
  "kernelspec": {
   "display_name": "Python 3",
   "language": "python",
   "name": "python3"
  },
  "language_info": {
   "codemirror_mode": {
    "name": "ipython",
    "version": 3
   },
   "file_extension": ".py",
   "mimetype": "text/x-python",
   "name": "python",
   "nbconvert_exporter": "python",
   "pygments_lexer": "ipython3",
   "version": "3.5.2"
  }
 },
 "nbformat": 4,
 "nbformat_minor": 2
}
