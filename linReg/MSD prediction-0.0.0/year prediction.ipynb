{
 "cells": [
  {
   "cell_type": "code",
   "execution_count": 1,
   "metadata": {
    "collapsed": false,
    "deletable": true,
    "editable": true
   },
   "outputs": [
    {
     "name": "stderr",
     "output_type": "stream",
     "text": [
      "/usr/local/lib/python3.5/dist-packages/sklearn/cross_validation.py:44: DeprecationWarning: This module was deprecated in version 0.18 in favor of the model_selection module into which all the refactored classes and functions are moved. Also note that the interface of the new CV iterators are different from that of this module. This module will be removed in 0.20.\n",
      "  \"This module will be removed in 0.20.\", DeprecationWarning)\n"
     ]
    }
   ],
   "source": [
    "import numpy as np\n",
    "import pandas as pd\n",
    "import pickle\n",
    "from sklearn.linear_model import LinearRegression\n",
    "from sklearn.svm import SVC,SVR\n",
    "import xlrd\n",
    "from sklearn.cross_validation import train_test_split\n",
    "from sklearn.preprocessing import StandardScaler"
   ]
  },
  {
   "cell_type": "code",
   "execution_count": 2,
   "metadata": {
    "collapsed": false,
    "deletable": true,
    "editable": true
   },
   "outputs": [
    {
     "data": {
      "text/html": [
       "<div>\n",
       "<table border=\"1\" class=\"dataframe\">\n",
       "  <thead>\n",
       "    <tr style=\"text-align: right;\">\n",
       "      <th></th>\n",
       "      <th>2001</th>\n",
       "      <th>49.94357</th>\n",
       "      <th>21.47114</th>\n",
       "      <th>73.07750</th>\n",
       "      <th>8.74861</th>\n",
       "      <th>-17.40628</th>\n",
       "      <th>-13.09905</th>\n",
       "      <th>-25.01202</th>\n",
       "      <th>-12.23257</th>\n",
       "      <th>7.83089</th>\n",
       "      <th>...</th>\n",
       "      <th>13.01620</th>\n",
       "      <th>-54.40548</th>\n",
       "      <th>58.99367</th>\n",
       "      <th>15.37344</th>\n",
       "      <th>1.11144</th>\n",
       "      <th>-23.08793</th>\n",
       "      <th>68.40795</th>\n",
       "      <th>-1.82223</th>\n",
       "      <th>-27.46348</th>\n",
       "      <th>2.26327</th>\n",
       "    </tr>\n",
       "  </thead>\n",
       "  <tbody>\n",
       "    <tr>\n",
       "      <th>0</th>\n",
       "      <td>2001</td>\n",
       "      <td>48.73215</td>\n",
       "      <td>18.42930</td>\n",
       "      <td>70.32679</td>\n",
       "      <td>12.94636</td>\n",
       "      <td>-10.32437</td>\n",
       "      <td>-24.83777</td>\n",
       "      <td>8.76630</td>\n",
       "      <td>-0.92019</td>\n",
       "      <td>18.76548</td>\n",
       "      <td>...</td>\n",
       "      <td>5.66812</td>\n",
       "      <td>-19.68073</td>\n",
       "      <td>33.04964</td>\n",
       "      <td>42.87836</td>\n",
       "      <td>-9.90378</td>\n",
       "      <td>-32.22788</td>\n",
       "      <td>70.49388</td>\n",
       "      <td>12.04941</td>\n",
       "      <td>58.43453</td>\n",
       "      <td>26.92061</td>\n",
       "    </tr>\n",
       "    <tr>\n",
       "      <th>1</th>\n",
       "      <td>2001</td>\n",
       "      <td>50.95714</td>\n",
       "      <td>31.85602</td>\n",
       "      <td>55.81851</td>\n",
       "      <td>13.41693</td>\n",
       "      <td>-6.57898</td>\n",
       "      <td>-18.54940</td>\n",
       "      <td>-3.27872</td>\n",
       "      <td>-2.35035</td>\n",
       "      <td>16.07017</td>\n",
       "      <td>...</td>\n",
       "      <td>3.03800</td>\n",
       "      <td>26.05866</td>\n",
       "      <td>-50.92779</td>\n",
       "      <td>10.93792</td>\n",
       "      <td>-0.07568</td>\n",
       "      <td>43.20130</td>\n",
       "      <td>-115.00698</td>\n",
       "      <td>-0.05859</td>\n",
       "      <td>39.67068</td>\n",
       "      <td>-0.66345</td>\n",
       "    </tr>\n",
       "    <tr>\n",
       "      <th>2</th>\n",
       "      <td>2001</td>\n",
       "      <td>48.24750</td>\n",
       "      <td>-1.89837</td>\n",
       "      <td>36.29772</td>\n",
       "      <td>2.58776</td>\n",
       "      <td>0.97170</td>\n",
       "      <td>-26.21683</td>\n",
       "      <td>5.05097</td>\n",
       "      <td>-10.34124</td>\n",
       "      <td>3.55005</td>\n",
       "      <td>...</td>\n",
       "      <td>34.57337</td>\n",
       "      <td>-171.70734</td>\n",
       "      <td>-16.96705</td>\n",
       "      <td>-46.67617</td>\n",
       "      <td>-12.51516</td>\n",
       "      <td>82.58061</td>\n",
       "      <td>-72.08993</td>\n",
       "      <td>9.90558</td>\n",
       "      <td>199.62971</td>\n",
       "      <td>18.85382</td>\n",
       "    </tr>\n",
       "    <tr>\n",
       "      <th>3</th>\n",
       "      <td>2001</td>\n",
       "      <td>50.97020</td>\n",
       "      <td>42.20998</td>\n",
       "      <td>67.09964</td>\n",
       "      <td>8.46791</td>\n",
       "      <td>-15.85279</td>\n",
       "      <td>-16.81409</td>\n",
       "      <td>-12.48207</td>\n",
       "      <td>-9.37636</td>\n",
       "      <td>12.63699</td>\n",
       "      <td>...</td>\n",
       "      <td>9.92661</td>\n",
       "      <td>-55.95724</td>\n",
       "      <td>64.92712</td>\n",
       "      <td>-17.72522</td>\n",
       "      <td>-1.49237</td>\n",
       "      <td>-7.50035</td>\n",
       "      <td>51.76631</td>\n",
       "      <td>7.88713</td>\n",
       "      <td>55.66926</td>\n",
       "      <td>28.74903</td>\n",
       "    </tr>\n",
       "    <tr>\n",
       "      <th>4</th>\n",
       "      <td>2001</td>\n",
       "      <td>50.54767</td>\n",
       "      <td>0.31568</td>\n",
       "      <td>92.35066</td>\n",
       "      <td>22.38696</td>\n",
       "      <td>-25.51870</td>\n",
       "      <td>-19.04928</td>\n",
       "      <td>20.67345</td>\n",
       "      <td>-5.19943</td>\n",
       "      <td>3.63566</td>\n",
       "      <td>...</td>\n",
       "      <td>6.59753</td>\n",
       "      <td>-50.69577</td>\n",
       "      <td>26.02574</td>\n",
       "      <td>18.94430</td>\n",
       "      <td>-0.33730</td>\n",
       "      <td>6.09352</td>\n",
       "      <td>35.18381</td>\n",
       "      <td>5.00283</td>\n",
       "      <td>-11.02257</td>\n",
       "      <td>0.02263</td>\n",
       "    </tr>\n",
       "  </tbody>\n",
       "</table>\n",
       "<p>5 rows × 91 columns</p>\n",
       "</div>"
      ],
      "text/plain": [
       "   2001  49.94357  21.47114  73.07750   8.74861  -17.40628  -13.09905  \\\n",
       "0  2001  48.73215  18.42930  70.32679  12.94636  -10.32437  -24.83777   \n",
       "1  2001  50.95714  31.85602  55.81851  13.41693   -6.57898  -18.54940   \n",
       "2  2001  48.24750  -1.89837  36.29772   2.58776    0.97170  -26.21683   \n",
       "3  2001  50.97020  42.20998  67.09964   8.46791  -15.85279  -16.81409   \n",
       "4  2001  50.54767   0.31568  92.35066  22.38696  -25.51870  -19.04928   \n",
       "\n",
       "   -25.01202  -12.23257   7.83089    ...     13.01620  -54.40548  58.99367  \\\n",
       "0    8.76630   -0.92019  18.76548    ...      5.66812  -19.68073  33.04964   \n",
       "1   -3.27872   -2.35035  16.07017    ...      3.03800   26.05866 -50.92779   \n",
       "2    5.05097  -10.34124   3.55005    ...     34.57337 -171.70734 -16.96705   \n",
       "3  -12.48207   -9.37636  12.63699    ...      9.92661  -55.95724  64.92712   \n",
       "4   20.67345   -5.19943   3.63566    ...      6.59753  -50.69577  26.02574   \n",
       "\n",
       "   15.37344   1.11144  -23.08793   68.40795  -1.82223  -27.46348   2.26327  \n",
       "0  42.87836  -9.90378  -32.22788   70.49388  12.04941   58.43453  26.92061  \n",
       "1  10.93792  -0.07568   43.20130 -115.00698  -0.05859   39.67068  -0.66345  \n",
       "2 -46.67617 -12.51516   82.58061  -72.08993   9.90558  199.62971  18.85382  \n",
       "3 -17.72522  -1.49237   -7.50035   51.76631   7.88713   55.66926  28.74903  \n",
       "4  18.94430  -0.33730    6.09352   35.18381   5.00283  -11.02257   0.02263  \n",
       "\n",
       "[5 rows x 91 columns]"
      ]
     },
     "execution_count": 2,
     "metadata": {},
     "output_type": "execute_result"
    }
   ],
   "source": [
    "data = pd.read_csv('YearPredictionMSD.txt')\n",
    "data.head()"
   ]
  },
  {
   "cell_type": "code",
   "execution_count": 3,
   "metadata": {
    "collapsed": false,
    "deletable": true,
    "editable": true
   },
   "outputs": [
    {
     "data": {
      "text/plain": [
       "(515344, 91)"
      ]
     },
     "execution_count": 3,
     "metadata": {},
     "output_type": "execute_result"
    }
   ],
   "source": [
    "data.shape"
   ]
  },
  {
   "cell_type": "code",
   "execution_count": 4,
   "metadata": {
    "collapsed": false,
    "deletable": true,
    "editable": true
   },
   "outputs": [
    {
     "data": {
      "text/html": [
       "<div>\n",
       "<table border=\"1\" class=\"dataframe\">\n",
       "  <thead>\n",
       "    <tr style=\"text-align: right;\">\n",
       "      <th></th>\n",
       "      <th>2001</th>\n",
       "      <th>49.94357</th>\n",
       "      <th>21.47114</th>\n",
       "      <th>73.07750</th>\n",
       "      <th>8.74861</th>\n",
       "      <th>-17.40628</th>\n",
       "      <th>-13.09905</th>\n",
       "      <th>-25.01202</th>\n",
       "      <th>-12.23257</th>\n",
       "      <th>7.83089</th>\n",
       "      <th>...</th>\n",
       "      <th>13.01620</th>\n",
       "      <th>-54.40548</th>\n",
       "      <th>58.99367</th>\n",
       "      <th>15.37344</th>\n",
       "      <th>1.11144</th>\n",
       "      <th>-23.08793</th>\n",
       "      <th>68.40795</th>\n",
       "      <th>-1.82223</th>\n",
       "      <th>-27.46348</th>\n",
       "      <th>2.26327</th>\n",
       "    </tr>\n",
       "  </thead>\n",
       "  <tbody>\n",
       "    <tr>\n",
       "      <th>0</th>\n",
       "      <td>2001</td>\n",
       "      <td>48.73215</td>\n",
       "      <td>18.42930</td>\n",
       "      <td>70.32679</td>\n",
       "      <td>12.94636</td>\n",
       "      <td>-10.32437</td>\n",
       "      <td>-24.83777</td>\n",
       "      <td>8.76630</td>\n",
       "      <td>-0.92019</td>\n",
       "      <td>18.76548</td>\n",
       "      <td>...</td>\n",
       "      <td>5.66812</td>\n",
       "      <td>-19.68073</td>\n",
       "      <td>33.04964</td>\n",
       "      <td>42.87836</td>\n",
       "      <td>-9.90378</td>\n",
       "      <td>-32.22788</td>\n",
       "      <td>70.49388</td>\n",
       "      <td>12.04941</td>\n",
       "      <td>58.43453</td>\n",
       "      <td>26.92061</td>\n",
       "    </tr>\n",
       "    <tr>\n",
       "      <th>1</th>\n",
       "      <td>2001</td>\n",
       "      <td>50.95714</td>\n",
       "      <td>31.85602</td>\n",
       "      <td>55.81851</td>\n",
       "      <td>13.41693</td>\n",
       "      <td>-6.57898</td>\n",
       "      <td>-18.54940</td>\n",
       "      <td>-3.27872</td>\n",
       "      <td>-2.35035</td>\n",
       "      <td>16.07017</td>\n",
       "      <td>...</td>\n",
       "      <td>3.03800</td>\n",
       "      <td>26.05866</td>\n",
       "      <td>-50.92779</td>\n",
       "      <td>10.93792</td>\n",
       "      <td>-0.07568</td>\n",
       "      <td>43.20130</td>\n",
       "      <td>-115.00698</td>\n",
       "      <td>-0.05859</td>\n",
       "      <td>39.67068</td>\n",
       "      <td>-0.66345</td>\n",
       "    </tr>\n",
       "  </tbody>\n",
       "</table>\n",
       "<p>2 rows × 91 columns</p>\n",
       "</div>"
      ],
      "text/plain": [
       "   2001  49.94357  21.47114  73.07750   8.74861  -17.40628  -13.09905  \\\n",
       "0  2001  48.73215  18.42930  70.32679  12.94636  -10.32437  -24.83777   \n",
       "1  2001  50.95714  31.85602  55.81851  13.41693   -6.57898  -18.54940   \n",
       "\n",
       "   -25.01202  -12.23257   7.83089    ...     13.01620  -54.40548  58.99367  \\\n",
       "0    8.76630   -0.92019  18.76548    ...      5.66812  -19.68073  33.04964   \n",
       "1   -3.27872   -2.35035  16.07017    ...      3.03800   26.05866 -50.92779   \n",
       "\n",
       "   15.37344  1.11144  -23.08793   68.40795  -1.82223  -27.46348   2.26327  \n",
       "0  42.87836 -9.90378  -32.22788   70.49388  12.04941   58.43453  26.92061  \n",
       "1  10.93792 -0.07568   43.20130 -115.00698  -0.05859   39.67068  -0.66345  \n",
       "\n",
       "[2 rows x 91 columns]"
      ]
     },
     "execution_count": 4,
     "metadata": {},
     "output_type": "execute_result"
    }
   ],
   "source": [
    "df = pd.DataFrame(data)\n",
    "df.shape\n",
    "df.head(2)"
   ]
  },
  {
   "cell_type": "code",
   "execution_count": 5,
   "metadata": {
    "collapsed": false,
    "deletable": true,
    "editable": true
   },
   "outputs": [
    {
     "data": {
      "text/plain": [
       "0    2001\n",
       "1    2001\n",
       "Name: 2001, dtype: int64"
      ]
     },
     "execution_count": 5,
     "metadata": {},
     "output_type": "execute_result"
    }
   ],
   "source": [
    "y = df.ix[:,0]\n",
    "y.head(2)"
   ]
  },
  {
   "cell_type": "code",
   "execution_count": 6,
   "metadata": {
    "collapsed": false,
    "deletable": true,
    "editable": true
   },
   "outputs": [
    {
     "data": {
      "text/html": [
       "<div>\n",
       "<table border=\"1\" class=\"dataframe\">\n",
       "  <thead>\n",
       "    <tr style=\"text-align: right;\">\n",
       "      <th></th>\n",
       "      <th>49.94357</th>\n",
       "      <th>21.47114</th>\n",
       "      <th>73.07750</th>\n",
       "      <th>8.74861</th>\n",
       "      <th>-17.40628</th>\n",
       "      <th>-13.09905</th>\n",
       "      <th>-25.01202</th>\n",
       "      <th>-12.23257</th>\n",
       "      <th>7.83089</th>\n",
       "      <th>-2.46783</th>\n",
       "      <th>...</th>\n",
       "      <th>13.01620</th>\n",
       "      <th>-54.40548</th>\n",
       "      <th>58.99367</th>\n",
       "      <th>15.37344</th>\n",
       "      <th>1.11144</th>\n",
       "      <th>-23.08793</th>\n",
       "      <th>68.40795</th>\n",
       "      <th>-1.82223</th>\n",
       "      <th>-27.46348</th>\n",
       "      <th>2.26327</th>\n",
       "    </tr>\n",
       "  </thead>\n",
       "  <tbody>\n",
       "    <tr>\n",
       "      <th>0</th>\n",
       "      <td>48.73215</td>\n",
       "      <td>18.42930</td>\n",
       "      <td>70.32679</td>\n",
       "      <td>12.94636</td>\n",
       "      <td>-10.32437</td>\n",
       "      <td>-24.83777</td>\n",
       "      <td>8.76630</td>\n",
       "      <td>-0.92019</td>\n",
       "      <td>18.76548</td>\n",
       "      <td>4.59210</td>\n",
       "      <td>...</td>\n",
       "      <td>5.66812</td>\n",
       "      <td>-19.68073</td>\n",
       "      <td>33.04964</td>\n",
       "      <td>42.87836</td>\n",
       "      <td>-9.90378</td>\n",
       "      <td>-32.22788</td>\n",
       "      <td>70.49388</td>\n",
       "      <td>12.04941</td>\n",
       "      <td>58.43453</td>\n",
       "      <td>26.92061</td>\n",
       "    </tr>\n",
       "    <tr>\n",
       "      <th>1</th>\n",
       "      <td>50.95714</td>\n",
       "      <td>31.85602</td>\n",
       "      <td>55.81851</td>\n",
       "      <td>13.41693</td>\n",
       "      <td>-6.57898</td>\n",
       "      <td>-18.54940</td>\n",
       "      <td>-3.27872</td>\n",
       "      <td>-2.35035</td>\n",
       "      <td>16.07017</td>\n",
       "      <td>1.39518</td>\n",
       "      <td>...</td>\n",
       "      <td>3.03800</td>\n",
       "      <td>26.05866</td>\n",
       "      <td>-50.92779</td>\n",
       "      <td>10.93792</td>\n",
       "      <td>-0.07568</td>\n",
       "      <td>43.20130</td>\n",
       "      <td>-115.00698</td>\n",
       "      <td>-0.05859</td>\n",
       "      <td>39.67068</td>\n",
       "      <td>-0.66345</td>\n",
       "    </tr>\n",
       "  </tbody>\n",
       "</table>\n",
       "<p>2 rows × 90 columns</p>\n",
       "</div>"
      ],
      "text/plain": [
       "   49.94357  21.47114  73.07750   8.74861  -17.40628  -13.09905  -25.01202  \\\n",
       "0  48.73215  18.42930  70.32679  12.94636  -10.32437  -24.83777    8.76630   \n",
       "1  50.95714  31.85602  55.81851  13.41693   -6.57898  -18.54940   -3.27872   \n",
       "\n",
       "   -12.23257   7.83089  -2.46783    ...     13.01620  -54.40548  58.99367  \\\n",
       "0   -0.92019  18.76548   4.59210    ...      5.66812  -19.68073  33.04964   \n",
       "1   -2.35035  16.07017   1.39518    ...      3.03800   26.05866 -50.92779   \n",
       "\n",
       "   15.37344  1.11144  -23.08793   68.40795  -1.82223  -27.46348   2.26327  \n",
       "0  42.87836 -9.90378  -32.22788   70.49388  12.04941   58.43453  26.92061  \n",
       "1  10.93792 -0.07568   43.20130 -115.00698  -0.05859   39.67068  -0.66345  \n",
       "\n",
       "[2 rows x 90 columns]"
      ]
     },
     "execution_count": 6,
     "metadata": {},
     "output_type": "execute_result"
    }
   ],
   "source": [
    "X = df.ix[:,1:91]\n",
    "X.head(2)"
   ]
  },
  {
   "cell_type": "code",
   "execution_count": 7,
   "metadata": {
    "collapsed": false,
    "deletable": true,
    "editable": true
   },
   "outputs": [
    {
     "data": {
      "text/plain": [
       "((463714, 90), (51630, 90), (463714,), (51630,))"
      ]
     },
     "execution_count": 7,
     "metadata": {},
     "output_type": "execute_result"
    }
   ],
   "source": [
    "X_train , X_test , y_train , y_test = train_test_split(X,y,train_size = 463714)\n",
    "X_train.shape,X_test.shape,y_train.shape,y_test.shape"
   ]
  },
  {
   "cell_type": "code",
   "execution_count": 8,
   "metadata": {
    "collapsed": false
   },
   "outputs": [
    {
     "data": {
      "text/html": [
       "<div>\n",
       "<table border=\"1\" class=\"dataframe\">\n",
       "  <thead>\n",
       "    <tr style=\"text-align: right;\">\n",
       "      <th></th>\n",
       "      <th>49.94357</th>\n",
       "      <th>21.47114</th>\n",
       "      <th>73.07750</th>\n",
       "      <th>8.74861</th>\n",
       "      <th>-17.40628</th>\n",
       "      <th>-13.09905</th>\n",
       "      <th>-25.01202</th>\n",
       "      <th>-12.23257</th>\n",
       "      <th>7.83089</th>\n",
       "      <th>-2.46783</th>\n",
       "      <th>...</th>\n",
       "      <th>13.01620</th>\n",
       "      <th>-54.40548</th>\n",
       "      <th>58.99367</th>\n",
       "      <th>15.37344</th>\n",
       "      <th>1.11144</th>\n",
       "      <th>-23.08793</th>\n",
       "      <th>68.40795</th>\n",
       "      <th>-1.82223</th>\n",
       "      <th>-27.46348</th>\n",
       "      <th>2.26327</th>\n",
       "    </tr>\n",
       "  </thead>\n",
       "  <tbody>\n",
       "    <tr>\n",
       "      <th>402917</th>\n",
       "      <td>51.54018</td>\n",
       "      <td>46.21301</td>\n",
       "      <td>33.24184</td>\n",
       "      <td>-7.01151</td>\n",
       "      <td>-11.55382</td>\n",
       "      <td>-23.54349</td>\n",
       "      <td>6.49888</td>\n",
       "      <td>11.34905</td>\n",
       "      <td>6.47131</td>\n",
       "      <td>6.21009</td>\n",
       "      <td>...</td>\n",
       "      <td>42.30672</td>\n",
       "      <td>4.21639</td>\n",
       "      <td>43.04579</td>\n",
       "      <td>65.77513</td>\n",
       "      <td>-21.08902</td>\n",
       "      <td>-40.03363</td>\n",
       "      <td>78.89051</td>\n",
       "      <td>7.31834</td>\n",
       "      <td>-97.67001</td>\n",
       "      <td>-4.58491</td>\n",
       "    </tr>\n",
       "    <tr>\n",
       "      <th>446130</th>\n",
       "      <td>33.71048</td>\n",
       "      <td>-69.82176</td>\n",
       "      <td>-3.04533</td>\n",
       "      <td>-12.16154</td>\n",
       "      <td>14.23718</td>\n",
       "      <td>-3.04375</td>\n",
       "      <td>-18.41326</td>\n",
       "      <td>1.50564</td>\n",
       "      <td>-7.85192</td>\n",
       "      <td>-5.70119</td>\n",
       "      <td>...</td>\n",
       "      <td>36.85501</td>\n",
       "      <td>-447.29380</td>\n",
       "      <td>153.46314</td>\n",
       "      <td>-61.81840</td>\n",
       "      <td>-28.59669</td>\n",
       "      <td>-144.67001</td>\n",
       "      <td>-318.14698</td>\n",
       "      <td>-10.09621</td>\n",
       "      <td>84.24633</td>\n",
       "      <td>-11.23762</td>\n",
       "    </tr>\n",
       "    <tr>\n",
       "      <th>90797</th>\n",
       "      <td>43.49589</td>\n",
       "      <td>35.19929</td>\n",
       "      <td>-11.23965</td>\n",
       "      <td>-2.65074</td>\n",
       "      <td>8.17749</td>\n",
       "      <td>-3.16336</td>\n",
       "      <td>-3.86973</td>\n",
       "      <td>5.06830</td>\n",
       "      <td>2.84714</td>\n",
       "      <td>6.00147</td>\n",
       "      <td>...</td>\n",
       "      <td>-10.78177</td>\n",
       "      <td>204.37463</td>\n",
       "      <td>-11.14354</td>\n",
       "      <td>6.84137</td>\n",
       "      <td>2.50445</td>\n",
       "      <td>48.04060</td>\n",
       "      <td>-34.84661</td>\n",
       "      <td>20.62163</td>\n",
       "      <td>-29.02604</td>\n",
       "      <td>-5.53060</td>\n",
       "    </tr>\n",
       "    <tr>\n",
       "      <th>147013</th>\n",
       "      <td>43.08846</td>\n",
       "      <td>103.14064</td>\n",
       "      <td>-72.60602</td>\n",
       "      <td>43.75683</td>\n",
       "      <td>9.99724</td>\n",
       "      <td>3.92487</td>\n",
       "      <td>13.89493</td>\n",
       "      <td>13.18530</td>\n",
       "      <td>-12.64333</td>\n",
       "      <td>5.74798</td>\n",
       "      <td>...</td>\n",
       "      <td>10.66406</td>\n",
       "      <td>-336.02423</td>\n",
       "      <td>74.77001</td>\n",
       "      <td>85.41136</td>\n",
       "      <td>-4.01915</td>\n",
       "      <td>-147.34968</td>\n",
       "      <td>-292.74257</td>\n",
       "      <td>12.11057</td>\n",
       "      <td>14.08586</td>\n",
       "      <td>-28.24988</td>\n",
       "    </tr>\n",
       "    <tr>\n",
       "      <th>125692</th>\n",
       "      <td>45.36972</td>\n",
       "      <td>5.62050</td>\n",
       "      <td>-9.11628</td>\n",
       "      <td>-9.20060</td>\n",
       "      <td>7.34623</td>\n",
       "      <td>-14.03957</td>\n",
       "      <td>-5.37660</td>\n",
       "      <td>-1.27081</td>\n",
       "      <td>-1.73391</td>\n",
       "      <td>-4.67764</td>\n",
       "      <td>...</td>\n",
       "      <td>0.56297</td>\n",
       "      <td>-15.15287</td>\n",
       "      <td>-5.75191</td>\n",
       "      <td>25.93731</td>\n",
       "      <td>-8.53781</td>\n",
       "      <td>41.94438</td>\n",
       "      <td>-123.62605</td>\n",
       "      <td>4.69754</td>\n",
       "      <td>51.64968</td>\n",
       "      <td>13.69873</td>\n",
       "    </tr>\n",
       "  </tbody>\n",
       "</table>\n",
       "<p>5 rows × 90 columns</p>\n",
       "</div>"
      ],
      "text/plain": [
       "        49.94357   21.47114  73.07750   8.74861  -17.40628  -13.09905  \\\n",
       "402917  51.54018   46.21301  33.24184  -7.01151  -11.55382  -23.54349   \n",
       "446130  33.71048  -69.82176  -3.04533 -12.16154   14.23718   -3.04375   \n",
       "90797   43.49589   35.19929 -11.23965  -2.65074    8.17749   -3.16336   \n",
       "147013  43.08846  103.14064 -72.60602  43.75683    9.99724    3.92487   \n",
       "125692  45.36972    5.62050  -9.11628  -9.20060    7.34623  -14.03957   \n",
       "\n",
       "        -25.01202  -12.23257   7.83089  -2.46783    ...     13.01620  \\\n",
       "402917    6.49888   11.34905   6.47131   6.21009    ...     42.30672   \n",
       "446130  -18.41326    1.50564  -7.85192  -5.70119    ...     36.85501   \n",
       "90797    -3.86973    5.06830   2.84714   6.00147    ...    -10.78177   \n",
       "147013   13.89493   13.18530 -12.64333   5.74798    ...     10.66406   \n",
       "125692   -5.37660   -1.27081  -1.73391  -4.67764    ...      0.56297   \n",
       "\n",
       "        -54.40548   58.99367  15.37344   1.11144  -23.08793   68.40795  \\\n",
       "402917    4.21639   43.04579  65.77513 -21.08902  -40.03363   78.89051   \n",
       "446130 -447.29380  153.46314 -61.81840 -28.59669 -144.67001 -318.14698   \n",
       "90797   204.37463  -11.14354   6.84137   2.50445   48.04060  -34.84661   \n",
       "147013 -336.02423   74.77001  85.41136  -4.01915 -147.34968 -292.74257   \n",
       "125692  -15.15287   -5.75191  25.93731  -8.53781   41.94438 -123.62605   \n",
       "\n",
       "        -1.82223  -27.46348   2.26327  \n",
       "402917   7.31834  -97.67001  -4.58491  \n",
       "446130 -10.09621   84.24633 -11.23762  \n",
       "90797   20.62163  -29.02604  -5.53060  \n",
       "147013  12.11057   14.08586 -28.24988  \n",
       "125692   4.69754   51.64968  13.69873  \n",
       "\n",
       "[5 rows x 90 columns]"
      ]
     },
     "execution_count": 8,
     "metadata": {},
     "output_type": "execute_result"
    }
   ],
   "source": [
    "X_test.head()"
   ]
  },
  {
   "cell_type": "code",
   "execution_count": 9,
   "metadata": {
    "collapsed": false
   },
   "outputs": [],
   "source": [
    "X_train_new = X_train.as_matrix()\n",
    "X_test_new = X_test.as_matrix()\n",
    "y_train_new = y_train.as_matrix()\n",
    "y_test_new = y_test.as_matrix()\n",
    "\n",
    "X_train_small = X_train_new[0:100000,:]\n",
    "X_test_small = X_test_new[0:20000,:]\n",
    "y_train_small = y_train_new[0:100000]\n",
    "y_test_small = y_test_new[0:20000]"
   ]
  },
  {
   "cell_type": "code",
   "execution_count": 10,
   "metadata": {
    "collapsed": false,
    "deletable": true,
    "editable": true
   },
   "outputs": [],
   "source": [
    "sc = StandardScaler()\n",
    "sc.fit(X_train_small)\n",
    "X_train_std = sc.transform(X_train_small)\n",
    "X_test_std = sc.transform(X_test_small)"
   ]
  },
  {
   "cell_type": "code",
   "execution_count": 11,
   "metadata": {
    "collapsed": false,
    "deletable": true,
    "editable": true
   },
   "outputs": [
    {
     "data": {
      "text/plain": [
       "SVR(C=1.0, cache_size=200, coef0=0.0, degree=3, epsilon=0.1, gamma='auto',\n",
       "  kernel='rbf', max_iter=-1, shrinking=True, tol=0.001, verbose=False)"
      ]
     },
     "execution_count": 11,
     "metadata": {},
     "output_type": "execute_result"
    }
   ],
   "source": [
    "reg = SVR()\n",
    "reg.fit(X_train_std,y_train_small)"
   ]
  },
  {
   "cell_type": "code",
   "execution_count": 12,
   "metadata": {
    "collapsed": true,
    "deletable": true,
    "editable": true
   },
   "outputs": [],
   "source": [
    "y_pred = reg.predict(X_test_std)"
   ]
  },
  {
   "cell_type": "code",
   "execution_count": 13,
   "metadata": {
    "collapsed": true,
    "deletable": true,
    "editable": true
   },
   "outputs": [],
   "source": [
    "with open('yearPredictoins.pickle','wb') as f:\n",
    "    pickle.dump(reg,f)"
   ]
  },
  {
   "cell_type": "code",
   "execution_count": 14,
   "metadata": {
    "collapsed": false,
    "deletable": true,
    "editable": true
   },
   "outputs": [
    {
     "data": {
      "text/plain": [
       "27.691896330770916"
      ]
     },
     "execution_count": 14,
     "metadata": {},
     "output_type": "execute_result"
    }
   ],
   "source": [
    "# score = reg.score(y_pred,y_test)\n",
    "u = ((y_test_small - y_pred) ** 2).sum()\n",
    "v = ((y_test_small - y_test_small.mean()) ** 2).sum()\n",
    "score = (1 - u/v)\n",
    "score*100"
   ]
  },
  {
   "cell_type": "code",
   "execution_count": null,
   "metadata": {
    "collapsed": true,
    "deletable": true,
    "editable": true
   },
   "outputs": [],
   "source": []
  }
 ],
 "metadata": {
  "kernelspec": {
   "display_name": "Python 3",
   "language": "python",
   "name": "python3"
  },
  "language_info": {
   "codemirror_mode": {
    "name": "ipython",
    "version": 3
   },
   "file_extension": ".py",
   "mimetype": "text/x-python",
   "name": "python",
   "nbconvert_exporter": "python",
   "pygments_lexer": "ipython3",
   "version": "3.5.2"
  }
 },
 "nbformat": 4,
 "nbformat_minor": 2
}
